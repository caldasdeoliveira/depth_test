{
 "cells": [
  {
   "cell_type": "code",
   "execution_count": 1,
   "metadata": {},
   "outputs": [],
   "source": [
    "import numpy as np\n",
    "import os\n",
    "import pandas as pd\n",
    "import run_openpose\n",
    "import re\n",
    "import cv2\n",
    "import matplotlib.pyplot as plt"
   ]
  },
  {
   "cell_type": "code",
   "execution_count": 2,
   "metadata": {},
   "outputs": [
    {
     "name": "stdout",
     "output_type": "stream",
     "text": [
      "\u001b[1m\u001b[36mPhotos\u001b[m\u001b[m                    depth_test_notebook.ipynb run_openpose.py\r\n",
      "README.md                 openpose_depth_test.py\r\n",
      "\u001b[1m\u001b[36m__pycache__\u001b[m\u001b[m               \u001b[1m\u001b[36mpose\u001b[m\u001b[m\r\n"
     ]
    }
   ],
   "source": [
    "!ls\n",
    "img_show_flag = False"
   ]
  },
  {
   "cell_type": "code",
   "execution_count": 3,
   "metadata": {},
   "outputs": [],
   "source": [
    "colors = [ [0,100,255], [0,100,255], [0,255,255], [0,100,255], [0,255,255], [0,100,255],\n",
    "         [0,255,0], [255,200,100], [255,0,255], [0,255,0], [255,200,100], [255,0,255],\n",
    "         [0,0,255], [255,0,0], [200,200,0], [255,0,0], [200,200,0], [0,0,0]]"
   ]
  },
  {
   "cell_type": "code",
   "execution_count": 4,
   "metadata": {},
   "outputs": [],
   "source": [
    "directory = os.path.join('.','photos')\n",
    "filename = os.path.join(directory,'annotations.json')"
   ]
  },
  {
   "cell_type": "code",
   "execution_count": 5,
   "metadata": {},
   "outputs": [],
   "source": [
    "data=pd.read_json(filename)"
   ]
  },
  {
   "cell_type": "code",
   "execution_count": 6,
   "metadata": {
    "scrolled": true
   },
   "outputs": [],
   "source": [
    "data = data.transpose().reset_index()[['filename','regions','size']]"
   ]
  },
  {
   "cell_type": "code",
   "execution_count": 7,
   "metadata": {},
   "outputs": [],
   "source": [
    "protoFile = os.path.join('.','pose','coco','pose_deploy_linevec.prototxt')\n",
    "weightsFile = os.path.join('.','pose','coco','pose_iter_440000.caffemodel')"
   ]
  },
  {
   "cell_type": "code",
   "execution_count": 8,
   "metadata": {},
   "outputs": [],
   "source": [
    "dist_data=[]"
   ]
  },
  {
   "cell_type": "code",
   "execution_count": null,
   "metadata": {},
   "outputs": [
    {
     "name": "stdout",
     "output_type": "stream",
     "text": [
      "./photos/D_3m_2.jpg\n",
      "./photos/D_3m_1.jpg\n",
      "./photos/M_4m_2.jpg\n",
      "./photos/D_7m_2.jpg\n",
      "./photos/M_4m_1.jpg\n",
      "./photos/D_15m_1.jpg\n",
      "./photos/D_7m_1.jpg\n"
     ]
    }
   ],
   "source": [
    "for filename in os.listdir(directory):\n",
    "    if filename.endswith('.jpg'):\n",
    "        dist={'Filename': filename, 'Distance': int(re.search('%s(.*)%s' % ('_', 'm'), filename).group(1))}\n",
    "        print(os.path.join(directory, filename))\n",
    "        estimate = run_openpose.run_openpose(os.path.join(directory, filename),protoFile,weightsFile)\n",
    "        f=data['filename']==filename\n",
    "        d=data['regions'][[i for i, x in enumerate(f) if x][0]]\n",
    "        min_y = 10000000000000\n",
    "        max_y = -1\n",
    "        for e_point in estimate:\n",
    "            if e_point:\n",
    "                idx = e_point[0][3]\n",
    "                e_x = e_point[0][0]\n",
    "                e_y = e_point[0][1]\n",
    "                if (idx > 0) & (idx < 14):\n",
    "                    if d[idx]['shape_attributes']:\n",
    "                        x = d[idx]['shape_attributes']['cx']\n",
    "                        y = d[idx]['shape_attributes']['cy']\n",
    "                        min_y = min([y, min_y])\n",
    "                        max_y = max([y, max_y])\n",
    "                        dist[idx] = np.sqrt((e_x-x)**2+(e_y-y)**2)\n",
    "        dist['Person Height'] = abs(max_y-min_y)\n",
    "        if img_show_flag:\n",
    "            frameClone = cv2.imread(os.path.join(directory, filename))\n",
    "            for e_point in estimate[1:14]:\n",
    "                cv2.circle(frameClone, tuple(e_point[0][0:2]), 5, colors[e_point[0][3]], -1)\n",
    "                aux = d[e_point[0][3]]['shape_attributes']\n",
    "                cv2.circle(frameClone, (aux['cx'], aux['cy']), 5, colors[e_point[0][3]//10], -1)\n",
    "            cv2.imshow(\"Keypoints\",frameClone)\n",
    "            cv2.waitKey(0)\n",
    "\n",
    "        dist_data.append(dist)"
   ]
  },
  {
   "cell_type": "code",
   "execution_count": null,
   "metadata": {},
   "outputs": [],
   "source": [
    "dist_dataframe = pd.DataFrame(dist_data) \n",
    "dist_dataframe.sort_values(by=['Distance'])"
   ]
  },
  {
   "cell_type": "code",
   "execution_count": null,
   "metadata": {},
   "outputs": [],
   "source": [
    "aux=np.array(dist_dataframe['Distance'])"
   ]
  },
  {
   "cell_type": "code",
   "execution_count": null,
   "metadata": {},
   "outputs": [],
   "source": [
    "distances = np.unique(aux)\n",
    "mean_dist = 100000*np.ones(distances.shape)\n",
    "\n",
    "for j,i in enumerate(distances):\n",
    "    temp = np.array(dist_dataframe[dist_dataframe.columns[2:]][dist_dataframe['Distance']==i].div(dist_dataframe[dist_dataframe.columns[-1]][dist_dataframe['Distance']==i]))\n",
    "    mean_dist[j] = np.nanmean(temp)\n",
    "    \n",
    "#old\n",
    "#distances = np.unique(aux)\n",
    "#mean_dist = 100000*np.ones(distances.shape)\n",
    "\n",
    "#for j,i in enumerate(distances):\n",
    "#    temp = np.array(dist_dataframe[dist_dataframe.columns[2:]][dist_dataframe['Distance']==i])\n",
    "#    mean_dist[j] = np.nanmean(temp)\n",
    "    \n",
    "  "
   ]
  },
  {
   "cell_type": "code",
   "execution_count": null,
   "metadata": {},
   "outputs": [],
   "source": [
    "dist_dataframe[dist_dataframe.columns[2:]][dist_dataframe['Distance']==i]"
   ]
  },
  {
   "cell_type": "code",
   "execution_count": null,
   "metadata": {},
   "outputs": [],
   "source": [
    "%matplotlib inline\n",
    "\n",
    "index = np.arange(len(distances))\n",
    "plt.bar(index, mean_dist)\n",
    "plt.xlabel('Distances(m)', fontsize=10)\n",
    "plt.ylabel('Euclidean dist. normalized w.r.t. target height', fontsize=10)\n",
    "plt.xticks(index, distances, fontsize=10, rotation=0)\n",
    "plt.title('Keypoint detection with Distance')\n",
    "plt.show()\n",
    "\n",
    "print(mean_dist)"
   ]
  },
  {
   "cell_type": "code",
   "execution_count": null,
   "metadata": {},
   "outputs": [],
   "source": []
  }
 ],
 "metadata": {
  "kernelspec": {
   "display_name": "Python 3",
   "language": "python",
   "name": "python3"
  },
  "language_info": {
   "codemirror_mode": {
    "name": "ipython",
    "version": 3
   },
   "file_extension": ".py",
   "mimetype": "text/x-python",
   "name": "python",
   "nbconvert_exporter": "python",
   "pygments_lexer": "ipython3",
   "version": "3.7.0"
  }
 },
 "nbformat": 4,
 "nbformat_minor": 2
}
